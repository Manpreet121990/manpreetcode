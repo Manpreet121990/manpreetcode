{
 "cells": [
  {
   "cell_type": "code",
   "execution_count": 1,
   "id": "bdce5c56-3ffc-4fe6-9ae2-1615b83c0bf7",
   "metadata": {},
   "outputs": [
    {
     "name": "stdout",
     "output_type": "stream",
     "text": [
      "Article successfully saved to scraped_articles\\scraped_article.txt\n"
     ]
    }
   ],
   "source": [
    "import os\n",
    "import requests\n",
    "from bs4 import BeautifulSoup\n",
    "\n",
    "# Define the URL of the article\n",
    "url = \"https://www.consumerreports.org/cars/new-cars-on-the-horizon-a1920770135/\"\n",
    "\n",
    "# Create a folder to store the scraped articles\n",
    "output_folder = \"scraped_articles\"\n",
    "if not os.path.exists(output_folder):\n",
    "    os.makedirs(output_folder)\n",
    "\n",
    "# Define headers to mimic a browser\n",
    "headers = {\n",
    "    \"User-Agent\": (\n",
    "        \"Mozilla/5.0 (Windows NT 10.0; Win64; x64) AppleWebKit/537.36 \"\n",
    "        \"(KHTML, like Gecko) Chrome/91.0.4472.124 Safari/537.36\"\n",
    "    )\n",
    "}\n",
    "\n",
    "try:\n",
    "    # Send a GET request with headers\n",
    "    response = requests.get(url, headers=headers)\n",
    "    response.raise_for_status()  # Check for HTTP request errors\n",
    "\n",
    "    # Parse the HTML content using BeautifulSoup\n",
    "    soup = BeautifulSoup(response.text, 'html.parser')\n",
    "\n",
    "    # Extract the main content of the article (adjust tag if necessary)\n",
    "    article_body = soup.find('main')  # Find the main tag for the article content\n",
    "    if article_body:\n",
    "        article_text = article_body.get_text(separator=\"\\n\").strip()\n",
    "    else:\n",
    "        article_text = \"Could not find the main content of the article.\"\n",
    "\n",
    "    # Save the content to a .txt file\n",
    "    output_file = os.path.join(output_folder, \"scraped_article.txt\")\n",
    "    with open(output_file, 'w', encoding='utf-8') as file:\n",
    "        file.write(article_text)\n",
    "\n",
    "    print(f\"Article successfully saved to {output_file}\")\n",
    "\n",
    "except Exception as e:\n",
    "    print(f\"An error occurred: {e}\")\n"
   ]
  },
  {
   "cell_type": "code",
   "execution_count": null,
   "id": "e523277e-52ea-4b38-b7e8-4ff26fb8d67c",
   "metadata": {},
   "outputs": [],
   "source": []
  },
  {
   "cell_type": "code",
   "execution_count": null,
   "id": "2f2baae7-38fd-4993-b383-fbca82012a6a",
   "metadata": {},
   "outputs": [],
   "source": []
  }
 ],
 "metadata": {
  "kernelspec": {
   "display_name": "Python 3 (ipykernel)",
   "language": "python",
   "name": "python3"
  },
  "language_info": {
   "codemirror_mode": {
    "name": "ipython",
    "version": 3
   },
   "file_extension": ".py",
   "mimetype": "text/x-python",
   "name": "python",
   "nbconvert_exporter": "python",
   "pygments_lexer": "ipython3",
   "version": "3.11.7"
  }
 },
 "nbformat": 4,
 "nbformat_minor": 5
}
